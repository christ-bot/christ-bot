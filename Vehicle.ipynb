{
  "nbformat": 4,
  "nbformat_minor": 0,
  "metadata": {
    "colab": {
      "provenance": [],
      "mount_file_id": "1k7zHoeTqaCmWo4F9iuu_tfGX0cBDICHP",
      "authorship_tag": "ABX9TyN51AhmLnqoBK4DP5qLyVB+",
      "include_colab_link": true
    },
    "kernelspec": {
      "name": "python3",
      "display_name": "Python 3"
    },
    "language_info": {
      "name": "python"
    }
  },
  "cells": [
    {
      "cell_type": "markdown",
      "metadata": {
        "id": "view-in-github",
        "colab_type": "text"
      },
      "source": [
        "<a href=\"https://colab.research.google.com/github/christ-bot/christ-bot/blob/main/Vehicle.ipynb\" target=\"_parent\"><img src=\"https://colab.research.google.com/assets/colab-badge.svg\" alt=\"Open In Colab\"/></a>"
      ]
    },
    {
      "cell_type": "markdown",
      "source": [
        "## Exploring and Identifying Red Flags in Car Body Type Data"
      ],
      "metadata": {
        "id": "aeFHxH9DwbB0"
      }
    },
    {
      "cell_type": "markdown",
      "source": [
        "The project aims to provide insights into potential data issues, particularly focusing on cars with unusual patterns of body type associations. This analysis helps in identifying and flagging data points that might require further investigation or correction."
      ],
      "metadata": {
        "id": "l77A2zvkxm2F"
      }
    },
    {
      "cell_type": "markdown",
      "source": [
        "importing necessary libraries for data manipulation and analysis\n"
      ],
      "metadata": {
        "id": "1hNr7OEVxKKO"
      }
    },
    {
      "cell_type": "code",
      "source": [
        "import pandas as pd\n",
        "import matplotlib.pyplot as plt\n",
        "import seaborn as sns\n"
      ],
      "metadata": {
        "id": "BSMD7iJwwgm-"
      },
      "execution_count": 13,
      "outputs": []
    },
    {
      "cell_type": "markdown",
      "source": [
        "# Replace 'csv' with the actual file path\n",
        "#Load your car data into a Pandas DataFrame"
      ],
      "metadata": {
        "id": "lukmClb6uB_Q"
      }
    },
    {
      "cell_type": "code",
      "source": [
        "df = pd.read_csv('/content/drive/MyDrive/Current Distinct SKU Body Types - Pivot Table 1.csv',header =1,index_col=0)"
      ],
      "metadata": {
        "id": "Zp72PtFouEz3"
      },
      "execution_count": 20,
      "outputs": []
    },
    {
      "cell_type": "code",
      "source": [
        "df"
      ],
      "metadata": {
        "colab": {
          "base_uri": "https://localhost:8080/",
          "height": 541
        },
        "id": "ZTTKLPsQuPf6",
        "outputId": "77538b49-dec6-4b3e-d133-47c70086e806"
      },
      "execution_count": 21,
      "outputs": [
        {
          "output_type": "execute_result",
          "data": {
            "text/plain": [
              "                      Bus  Convertible  Coupe  Crossover  hatchback  Minivan  \\\n",
              "SKU_2                                                                          \n",
              "                      1.0          NaN    1.0        1.0        NaN      1.0   \n",
              "ABARTH 500            NaN          NaN    NaN        NaN        1.0      1.0   \n",
              "ABARTH 500C           NaN          NaN    NaN        NaN        NaN      1.0   \n",
              "ABARTH 595 Turismo    NaN          NaN    NaN        NaN        NaN      NaN   \n",
              "ABARTH 595C           NaN          NaN    NaN        NaN        NaN      NaN   \n",
              "...                   ...          ...    ...        ...        ...      ...   \n",
              "Volvo V90             NaN          NaN    NaN        NaN        NaN      NaN   \n",
              "Volvo XC60            NaN          NaN    NaN        NaN        1.0      NaN   \n",
              "Volvo XC70            NaN          NaN    NaN        NaN        NaN      NaN   \n",
              "Volvo XC90            NaN          NaN    NaN        1.0        1.0      NaN   \n",
              "Grand Total         161.0         40.0  167.0      159.0      473.0    175.0   \n",
              "\n",
              "                    Other  Pickup  Sedan  Station Wagon    SUV  Trailer  \\\n",
              "SKU_2                                                                     \n",
              "                      NaN     NaN    1.0            NaN    1.0      NaN   \n",
              "ABARTH 500            NaN     1.0    NaN            NaN    1.0      NaN   \n",
              "ABARTH 500C           NaN     1.0    NaN            NaN    1.0      NaN   \n",
              "ABARTH 595 Turismo    NaN     1.0    NaN            NaN    NaN      NaN   \n",
              "ABARTH 595C           NaN     NaN    NaN            NaN    1.0      NaN   \n",
              "...                   ...     ...    ...            ...    ...      ...   \n",
              "Volvo V90             NaN     NaN    NaN            1.0    1.0      NaN   \n",
              "Volvo XC60            NaN     NaN    NaN            NaN    1.0      NaN   \n",
              "Volvo XC70            NaN     NaN    NaN            NaN    NaN      NaN   \n",
              "Volvo XC90            NaN     NaN    1.0            NaN    1.0      NaN   \n",
              "Grand Total          85.0   189.0  715.0          280.0  816.0     22.0   \n",
              "\n",
              "                    Truck  Grand Total  count  \n",
              "SKU_2                                          \n",
              "                      1.0            1      8  \n",
              "ABARTH 500            NaN            1      5  \n",
              "ABARTH 500C           NaN            1      4  \n",
              "ABARTH 595 Turismo    NaN            1      2  \n",
              "ABARTH 595C           NaN            1      2  \n",
              "...                   ...          ...    ...  \n",
              "Volvo V90             NaN            1      3  \n",
              "Volvo XC60            NaN            1      3  \n",
              "Volvo XC70            1.0            1      2  \n",
              "Volvo XC90            NaN            1      5  \n",
              "Grand Total         256.0         1623   5161  \n",
              "\n",
              "[1620 rows x 15 columns]"
            ],
            "text/html": [
              "\n",
              "  <div id=\"df-eb188218-b6c4-4452-b189-bbd5fd16dbcb\" class=\"colab-df-container\">\n",
              "    <div>\n",
              "<style scoped>\n",
              "    .dataframe tbody tr th:only-of-type {\n",
              "        vertical-align: middle;\n",
              "    }\n",
              "\n",
              "    .dataframe tbody tr th {\n",
              "        vertical-align: top;\n",
              "    }\n",
              "\n",
              "    .dataframe thead th {\n",
              "        text-align: right;\n",
              "    }\n",
              "</style>\n",
              "<table border=\"1\" class=\"dataframe\">\n",
              "  <thead>\n",
              "    <tr style=\"text-align: right;\">\n",
              "      <th></th>\n",
              "      <th>Bus</th>\n",
              "      <th>Convertible</th>\n",
              "      <th>Coupe</th>\n",
              "      <th>Crossover</th>\n",
              "      <th>hatchback</th>\n",
              "      <th>Minivan</th>\n",
              "      <th>Other</th>\n",
              "      <th>Pickup</th>\n",
              "      <th>Sedan</th>\n",
              "      <th>Station Wagon</th>\n",
              "      <th>SUV</th>\n",
              "      <th>Trailer</th>\n",
              "      <th>Truck</th>\n",
              "      <th>Grand Total</th>\n",
              "      <th>count</th>\n",
              "    </tr>\n",
              "    <tr>\n",
              "      <th>SKU_2</th>\n",
              "      <th></th>\n",
              "      <th></th>\n",
              "      <th></th>\n",
              "      <th></th>\n",
              "      <th></th>\n",
              "      <th></th>\n",
              "      <th></th>\n",
              "      <th></th>\n",
              "      <th></th>\n",
              "      <th></th>\n",
              "      <th></th>\n",
              "      <th></th>\n",
              "      <th></th>\n",
              "      <th></th>\n",
              "      <th></th>\n",
              "    </tr>\n",
              "  </thead>\n",
              "  <tbody>\n",
              "    <tr>\n",
              "      <th></th>\n",
              "      <td>1.0</td>\n",
              "      <td>NaN</td>\n",
              "      <td>1.0</td>\n",
              "      <td>1.0</td>\n",
              "      <td>NaN</td>\n",
              "      <td>1.0</td>\n",
              "      <td>NaN</td>\n",
              "      <td>NaN</td>\n",
              "      <td>1.0</td>\n",
              "      <td>NaN</td>\n",
              "      <td>1.0</td>\n",
              "      <td>NaN</td>\n",
              "      <td>1.0</td>\n",
              "      <td>1</td>\n",
              "      <td>8</td>\n",
              "    </tr>\n",
              "    <tr>\n",
              "      <th>ABARTH 500</th>\n",
              "      <td>NaN</td>\n",
              "      <td>NaN</td>\n",
              "      <td>NaN</td>\n",
              "      <td>NaN</td>\n",
              "      <td>1.0</td>\n",
              "      <td>1.0</td>\n",
              "      <td>NaN</td>\n",
              "      <td>1.0</td>\n",
              "      <td>NaN</td>\n",
              "      <td>NaN</td>\n",
              "      <td>1.0</td>\n",
              "      <td>NaN</td>\n",
              "      <td>NaN</td>\n",
              "      <td>1</td>\n",
              "      <td>5</td>\n",
              "    </tr>\n",
              "    <tr>\n",
              "      <th>ABARTH 500C</th>\n",
              "      <td>NaN</td>\n",
              "      <td>NaN</td>\n",
              "      <td>NaN</td>\n",
              "      <td>NaN</td>\n",
              "      <td>NaN</td>\n",
              "      <td>1.0</td>\n",
              "      <td>NaN</td>\n",
              "      <td>1.0</td>\n",
              "      <td>NaN</td>\n",
              "      <td>NaN</td>\n",
              "      <td>1.0</td>\n",
              "      <td>NaN</td>\n",
              "      <td>NaN</td>\n",
              "      <td>1</td>\n",
              "      <td>4</td>\n",
              "    </tr>\n",
              "    <tr>\n",
              "      <th>ABARTH 595 Turismo</th>\n",
              "      <td>NaN</td>\n",
              "      <td>NaN</td>\n",
              "      <td>NaN</td>\n",
              "      <td>NaN</td>\n",
              "      <td>NaN</td>\n",
              "      <td>NaN</td>\n",
              "      <td>NaN</td>\n",
              "      <td>1.0</td>\n",
              "      <td>NaN</td>\n",
              "      <td>NaN</td>\n",
              "      <td>NaN</td>\n",
              "      <td>NaN</td>\n",
              "      <td>NaN</td>\n",
              "      <td>1</td>\n",
              "      <td>2</td>\n",
              "    </tr>\n",
              "    <tr>\n",
              "      <th>ABARTH 595C</th>\n",
              "      <td>NaN</td>\n",
              "      <td>NaN</td>\n",
              "      <td>NaN</td>\n",
              "      <td>NaN</td>\n",
              "      <td>NaN</td>\n",
              "      <td>NaN</td>\n",
              "      <td>NaN</td>\n",
              "      <td>NaN</td>\n",
              "      <td>NaN</td>\n",
              "      <td>NaN</td>\n",
              "      <td>1.0</td>\n",
              "      <td>NaN</td>\n",
              "      <td>NaN</td>\n",
              "      <td>1</td>\n",
              "      <td>2</td>\n",
              "    </tr>\n",
              "    <tr>\n",
              "      <th>...</th>\n",
              "      <td>...</td>\n",
              "      <td>...</td>\n",
              "      <td>...</td>\n",
              "      <td>...</td>\n",
              "      <td>...</td>\n",
              "      <td>...</td>\n",
              "      <td>...</td>\n",
              "      <td>...</td>\n",
              "      <td>...</td>\n",
              "      <td>...</td>\n",
              "      <td>...</td>\n",
              "      <td>...</td>\n",
              "      <td>...</td>\n",
              "      <td>...</td>\n",
              "      <td>...</td>\n",
              "    </tr>\n",
              "    <tr>\n",
              "      <th>Volvo V90</th>\n",
              "      <td>NaN</td>\n",
              "      <td>NaN</td>\n",
              "      <td>NaN</td>\n",
              "      <td>NaN</td>\n",
              "      <td>NaN</td>\n",
              "      <td>NaN</td>\n",
              "      <td>NaN</td>\n",
              "      <td>NaN</td>\n",
              "      <td>NaN</td>\n",
              "      <td>1.0</td>\n",
              "      <td>1.0</td>\n",
              "      <td>NaN</td>\n",
              "      <td>NaN</td>\n",
              "      <td>1</td>\n",
              "      <td>3</td>\n",
              "    </tr>\n",
              "    <tr>\n",
              "      <th>Volvo XC60</th>\n",
              "      <td>NaN</td>\n",
              "      <td>NaN</td>\n",
              "      <td>NaN</td>\n",
              "      <td>NaN</td>\n",
              "      <td>1.0</td>\n",
              "      <td>NaN</td>\n",
              "      <td>NaN</td>\n",
              "      <td>NaN</td>\n",
              "      <td>NaN</td>\n",
              "      <td>NaN</td>\n",
              "      <td>1.0</td>\n",
              "      <td>NaN</td>\n",
              "      <td>NaN</td>\n",
              "      <td>1</td>\n",
              "      <td>3</td>\n",
              "    </tr>\n",
              "    <tr>\n",
              "      <th>Volvo XC70</th>\n",
              "      <td>NaN</td>\n",
              "      <td>NaN</td>\n",
              "      <td>NaN</td>\n",
              "      <td>NaN</td>\n",
              "      <td>NaN</td>\n",
              "      <td>NaN</td>\n",
              "      <td>NaN</td>\n",
              "      <td>NaN</td>\n",
              "      <td>NaN</td>\n",
              "      <td>NaN</td>\n",
              "      <td>NaN</td>\n",
              "      <td>NaN</td>\n",
              "      <td>1.0</td>\n",
              "      <td>1</td>\n",
              "      <td>2</td>\n",
              "    </tr>\n",
              "    <tr>\n",
              "      <th>Volvo XC90</th>\n",
              "      <td>NaN</td>\n",
              "      <td>NaN</td>\n",
              "      <td>NaN</td>\n",
              "      <td>1.0</td>\n",
              "      <td>1.0</td>\n",
              "      <td>NaN</td>\n",
              "      <td>NaN</td>\n",
              "      <td>NaN</td>\n",
              "      <td>1.0</td>\n",
              "      <td>NaN</td>\n",
              "      <td>1.0</td>\n",
              "      <td>NaN</td>\n",
              "      <td>NaN</td>\n",
              "      <td>1</td>\n",
              "      <td>5</td>\n",
              "    </tr>\n",
              "    <tr>\n",
              "      <th>Grand Total</th>\n",
              "      <td>161.0</td>\n",
              "      <td>40.0</td>\n",
              "      <td>167.0</td>\n",
              "      <td>159.0</td>\n",
              "      <td>473.0</td>\n",
              "      <td>175.0</td>\n",
              "      <td>85.0</td>\n",
              "      <td>189.0</td>\n",
              "      <td>715.0</td>\n",
              "      <td>280.0</td>\n",
              "      <td>816.0</td>\n",
              "      <td>22.0</td>\n",
              "      <td>256.0</td>\n",
              "      <td>1623</td>\n",
              "      <td>5161</td>\n",
              "    </tr>\n",
              "  </tbody>\n",
              "</table>\n",
              "<p>1620 rows × 15 columns</p>\n",
              "</div>\n",
              "    <div class=\"colab-df-buttons\">\n",
              "\n",
              "  <div class=\"colab-df-container\">\n",
              "    <button class=\"colab-df-convert\" onclick=\"convertToInteractive('df-eb188218-b6c4-4452-b189-bbd5fd16dbcb')\"\n",
              "            title=\"Convert this dataframe to an interactive table.\"\n",
              "            style=\"display:none;\">\n",
              "\n",
              "  <svg xmlns=\"http://www.w3.org/2000/svg\" height=\"24px\" viewBox=\"0 -960 960 960\">\n",
              "    <path d=\"M120-120v-720h720v720H120Zm60-500h600v-160H180v160Zm220 220h160v-160H400v160Zm0 220h160v-160H400v160ZM180-400h160v-160H180v160Zm440 0h160v-160H620v160ZM180-180h160v-160H180v160Zm440 0h160v-160H620v160Z\"/>\n",
              "  </svg>\n",
              "    </button>\n",
              "\n",
              "  <style>\n",
              "    .colab-df-container {\n",
              "      display:flex;\n",
              "      gap: 12px;\n",
              "    }\n",
              "\n",
              "    .colab-df-convert {\n",
              "      background-color: #E8F0FE;\n",
              "      border: none;\n",
              "      border-radius: 50%;\n",
              "      cursor: pointer;\n",
              "      display: none;\n",
              "      fill: #1967D2;\n",
              "      height: 32px;\n",
              "      padding: 0 0 0 0;\n",
              "      width: 32px;\n",
              "    }\n",
              "\n",
              "    .colab-df-convert:hover {\n",
              "      background-color: #E2EBFA;\n",
              "      box-shadow: 0px 1px 2px rgba(60, 64, 67, 0.3), 0px 1px 3px 1px rgba(60, 64, 67, 0.15);\n",
              "      fill: #174EA6;\n",
              "    }\n",
              "\n",
              "    .colab-df-buttons div {\n",
              "      margin-bottom: 4px;\n",
              "    }\n",
              "\n",
              "    [theme=dark] .colab-df-convert {\n",
              "      background-color: #3B4455;\n",
              "      fill: #D2E3FC;\n",
              "    }\n",
              "\n",
              "    [theme=dark] .colab-df-convert:hover {\n",
              "      background-color: #434B5C;\n",
              "      box-shadow: 0px 1px 3px 1px rgba(0, 0, 0, 0.15);\n",
              "      filter: drop-shadow(0px 1px 2px rgba(0, 0, 0, 0.3));\n",
              "      fill: #FFFFFF;\n",
              "    }\n",
              "  </style>\n",
              "\n",
              "    <script>\n",
              "      const buttonEl =\n",
              "        document.querySelector('#df-eb188218-b6c4-4452-b189-bbd5fd16dbcb button.colab-df-convert');\n",
              "      buttonEl.style.display =\n",
              "        google.colab.kernel.accessAllowed ? 'block' : 'none';\n",
              "\n",
              "      async function convertToInteractive(key) {\n",
              "        const element = document.querySelector('#df-eb188218-b6c4-4452-b189-bbd5fd16dbcb');\n",
              "        const dataTable =\n",
              "          await google.colab.kernel.invokeFunction('convertToInteractive',\n",
              "                                                    [key], {});\n",
              "        if (!dataTable) return;\n",
              "\n",
              "        const docLinkHtml = 'Like what you see? Visit the ' +\n",
              "          '<a target=\"_blank\" href=https://colab.research.google.com/notebooks/data_table.ipynb>data table notebook</a>'\n",
              "          + ' to learn more about interactive tables.';\n",
              "        element.innerHTML = '';\n",
              "        dataTable['output_type'] = 'display_data';\n",
              "        await google.colab.output.renderOutput(dataTable, element);\n",
              "        const docLink = document.createElement('div');\n",
              "        docLink.innerHTML = docLinkHtml;\n",
              "        element.appendChild(docLink);\n",
              "      }\n",
              "    </script>\n",
              "  </div>\n",
              "\n",
              "\n",
              "<div id=\"df-7ae81eb3-1653-4f9a-bbce-18e939b64ce8\">\n",
              "  <button class=\"colab-df-quickchart\" onclick=\"quickchart('df-7ae81eb3-1653-4f9a-bbce-18e939b64ce8')\"\n",
              "            title=\"Suggest charts\"\n",
              "            style=\"display:none;\">\n",
              "\n",
              "<svg xmlns=\"http://www.w3.org/2000/svg\" height=\"24px\"viewBox=\"0 0 24 24\"\n",
              "     width=\"24px\">\n",
              "    <g>\n",
              "        <path d=\"M19 3H5c-1.1 0-2 .9-2 2v14c0 1.1.9 2 2 2h14c1.1 0 2-.9 2-2V5c0-1.1-.9-2-2-2zM9 17H7v-7h2v7zm4 0h-2V7h2v10zm4 0h-2v-4h2v4z\"/>\n",
              "    </g>\n",
              "</svg>\n",
              "  </button>\n",
              "\n",
              "<style>\n",
              "  .colab-df-quickchart {\n",
              "      --bg-color: #E8F0FE;\n",
              "      --fill-color: #1967D2;\n",
              "      --hover-bg-color: #E2EBFA;\n",
              "      --hover-fill-color: #174EA6;\n",
              "      --disabled-fill-color: #AAA;\n",
              "      --disabled-bg-color: #DDD;\n",
              "  }\n",
              "\n",
              "  [theme=dark] .colab-df-quickchart {\n",
              "      --bg-color: #3B4455;\n",
              "      --fill-color: #D2E3FC;\n",
              "      --hover-bg-color: #434B5C;\n",
              "      --hover-fill-color: #FFFFFF;\n",
              "      --disabled-bg-color: #3B4455;\n",
              "      --disabled-fill-color: #666;\n",
              "  }\n",
              "\n",
              "  .colab-df-quickchart {\n",
              "    background-color: var(--bg-color);\n",
              "    border: none;\n",
              "    border-radius: 50%;\n",
              "    cursor: pointer;\n",
              "    display: none;\n",
              "    fill: var(--fill-color);\n",
              "    height: 32px;\n",
              "    padding: 0;\n",
              "    width: 32px;\n",
              "  }\n",
              "\n",
              "  .colab-df-quickchart:hover {\n",
              "    background-color: var(--hover-bg-color);\n",
              "    box-shadow: 0 1px 2px rgba(60, 64, 67, 0.3), 0 1px 3px 1px rgba(60, 64, 67, 0.15);\n",
              "    fill: var(--button-hover-fill-color);\n",
              "  }\n",
              "\n",
              "  .colab-df-quickchart-complete:disabled,\n",
              "  .colab-df-quickchart-complete:disabled:hover {\n",
              "    background-color: var(--disabled-bg-color);\n",
              "    fill: var(--disabled-fill-color);\n",
              "    box-shadow: none;\n",
              "  }\n",
              "\n",
              "  .colab-df-spinner {\n",
              "    border: 2px solid var(--fill-color);\n",
              "    border-color: transparent;\n",
              "    border-bottom-color: var(--fill-color);\n",
              "    animation:\n",
              "      spin 1s steps(1) infinite;\n",
              "  }\n",
              "\n",
              "  @keyframes spin {\n",
              "    0% {\n",
              "      border-color: transparent;\n",
              "      border-bottom-color: var(--fill-color);\n",
              "      border-left-color: var(--fill-color);\n",
              "    }\n",
              "    20% {\n",
              "      border-color: transparent;\n",
              "      border-left-color: var(--fill-color);\n",
              "      border-top-color: var(--fill-color);\n",
              "    }\n",
              "    30% {\n",
              "      border-color: transparent;\n",
              "      border-left-color: var(--fill-color);\n",
              "      border-top-color: var(--fill-color);\n",
              "      border-right-color: var(--fill-color);\n",
              "    }\n",
              "    40% {\n",
              "      border-color: transparent;\n",
              "      border-right-color: var(--fill-color);\n",
              "      border-top-color: var(--fill-color);\n",
              "    }\n",
              "    60% {\n",
              "      border-color: transparent;\n",
              "      border-right-color: var(--fill-color);\n",
              "    }\n",
              "    80% {\n",
              "      border-color: transparent;\n",
              "      border-right-color: var(--fill-color);\n",
              "      border-bottom-color: var(--fill-color);\n",
              "    }\n",
              "    90% {\n",
              "      border-color: transparent;\n",
              "      border-bottom-color: var(--fill-color);\n",
              "    }\n",
              "  }\n",
              "</style>\n",
              "\n",
              "  <script>\n",
              "    async function quickchart(key) {\n",
              "      const quickchartButtonEl =\n",
              "        document.querySelector('#' + key + ' button');\n",
              "      quickchartButtonEl.disabled = true;  // To prevent multiple clicks.\n",
              "      quickchartButtonEl.classList.add('colab-df-spinner');\n",
              "      try {\n",
              "        const charts = await google.colab.kernel.invokeFunction(\n",
              "            'suggestCharts', [key], {});\n",
              "      } catch (error) {\n",
              "        console.error('Error during call to suggestCharts:', error);\n",
              "      }\n",
              "      quickchartButtonEl.classList.remove('colab-df-spinner');\n",
              "      quickchartButtonEl.classList.add('colab-df-quickchart-complete');\n",
              "    }\n",
              "    (() => {\n",
              "      let quickchartButtonEl =\n",
              "        document.querySelector('#df-7ae81eb3-1653-4f9a-bbce-18e939b64ce8 button');\n",
              "      quickchartButtonEl.style.display =\n",
              "        google.colab.kernel.accessAllowed ? 'block' : 'none';\n",
              "    })();\n",
              "  </script>\n",
              "</div>\n",
              "    </div>\n",
              "  </div>\n"
            ]
          },
          "metadata": {},
          "execution_count": 21
        }
      ]
    },
    {
      "cell_type": "markdown",
      "source": [
        "exploring the data to get an understanding of its structure and content."
      ],
      "metadata": {
        "id": "6ggt9UqjwzbA"
      }
    },
    {
      "cell_type": "code",
      "source": [
        "print(df.head())"
      ],
      "metadata": {
        "colab": {
          "base_uri": "https://localhost:8080/"
        },
        "id": "ue_59HyCuj4Z",
        "outputId": "fbd4f938-6587-4a58-d319-f0edb2c49469"
      },
      "execution_count": 22,
      "outputs": [
        {
          "output_type": "stream",
          "name": "stdout",
          "text": [
            "                    Bus  Convertible  Coupe  Crossover  hatchback  Minivan  \\\n",
            "SKU_2                                                                        \n",
            "                    1.0          NaN    1.0        1.0        NaN      1.0   \n",
            "ABARTH 500          NaN          NaN    NaN        NaN        1.0      1.0   \n",
            "ABARTH 500C         NaN          NaN    NaN        NaN        NaN      1.0   \n",
            "ABARTH 595 Turismo  NaN          NaN    NaN        NaN        NaN      NaN   \n",
            "ABARTH 595C         NaN          NaN    NaN        NaN        NaN      NaN   \n",
            "\n",
            "                    Other  Pickup  Sedan  Station Wagon  SUV  Trailer  Truck  \\\n",
            "SKU_2                                                                          \n",
            "                      NaN     NaN    1.0            NaN  1.0      NaN    1.0   \n",
            "ABARTH 500            NaN     1.0    NaN            NaN  1.0      NaN    NaN   \n",
            "ABARTH 500C           NaN     1.0    NaN            NaN  1.0      NaN    NaN   \n",
            "ABARTH 595 Turismo    NaN     1.0    NaN            NaN  NaN      NaN    NaN   \n",
            "ABARTH 595C           NaN     NaN    NaN            NaN  1.0      NaN    NaN   \n",
            "\n",
            "                    Grand Total  count  \n",
            "SKU_2                                   \n",
            "                              1      8  \n",
            "ABARTH 500                    1      5  \n",
            "ABARTH 500C                   1      4  \n",
            "ABARTH 595 Turismo            1      2  \n",
            "ABARTH 595C                   1      2  \n"
          ]
        }
      ]
    },
    {
      "cell_type": "code",
      "source": [
        "print(df.describe())"
      ],
      "metadata": {
        "colab": {
          "base_uri": "https://localhost:8080/"
        },
        "id": "pL09Wr7Auqzb",
        "outputId": "7a25a5bf-b948-4d27-cbc7-e9389f4c7958"
      },
      "execution_count": 23,
      "outputs": [
        {
          "output_type": "stream",
          "name": "stdout",
          "text": [
            "              Bus  Convertible       Coupe   Crossover   hatchback  \\\n",
            "count  162.000000    41.000000  168.000000  160.000000  473.000000   \n",
            "mean     1.987654     1.951220    1.988095    1.987500    2.000000   \n",
            "std     12.570787     6.090777   12.807178   12.490997   21.702534   \n",
            "min      1.000000     1.000000    1.000000    1.000000    1.000000   \n",
            "25%      1.000000     1.000000    1.000000    1.000000    1.000000   \n",
            "50%      1.000000     1.000000    1.000000    1.000000    1.000000   \n",
            "75%      1.000000     1.000000    1.000000    1.000000    1.000000   \n",
            "max    161.000000    40.000000  167.000000  159.000000  473.000000   \n",
            "\n",
            "          Minivan      Other      Pickup      Sedan  Station Wagon  \\\n",
            "count  176.000000  86.000000  190.000000  715.00000     281.000000   \n",
            "mean     1.988636   1.976744    1.989474    2.00000       1.992883   \n",
            "std     13.115743   9.057953   13.638954   26.70206      16.643745   \n",
            "min      1.000000   1.000000    1.000000    1.00000       1.000000   \n",
            "25%      1.000000   1.000000    1.000000    1.00000       1.000000   \n",
            "50%      1.000000   1.000000    1.000000    1.00000       1.000000   \n",
            "75%      1.000000   1.000000    1.000000    1.00000       1.000000   \n",
            "max    175.000000  85.000000  189.000000  715.00000     280.000000   \n",
            "\n",
            "              SUV    Trailer       Truck  Grand Total        count  \n",
            "count  817.000000  23.000000  256.000000  1620.000000  1620.000000  \n",
            "mean     1.997552   1.913043    2.000000     2.003704     6.371605  \n",
            "std     28.513241   4.378803   15.937377    40.298883   128.157283  \n",
            "min      1.000000   1.000000    1.000000     1.000000     2.000000  \n",
            "25%      1.000000   1.000000    1.000000     1.000000     2.000000  \n",
            "50%      1.000000   1.000000    1.000000     1.000000     3.000000  \n",
            "75%      1.000000   1.000000    1.000000     1.000000     4.000000  \n",
            "max    816.000000  22.000000  256.000000  1623.000000  5161.000000  \n"
          ]
        }
      ]
    },
    {
      "cell_type": "code",
      "source": [
        "print(df.isnull().sum())"
      ],
      "metadata": {
        "colab": {
          "base_uri": "https://localhost:8080/"
        },
        "id": "0bkLtHZruw6k",
        "outputId": "d142dd51-9c1c-4485-9d1b-1876d18c2134"
      },
      "execution_count": 24,
      "outputs": [
        {
          "output_type": "stream",
          "name": "stdout",
          "text": [
            "Bus              1458\n",
            "Convertible      1579\n",
            "Coupe            1452\n",
            "Crossover        1460\n",
            "hatchback        1147\n",
            "Minivan          1444\n",
            "Other            1534\n",
            "Pickup           1430\n",
            "Sedan             905\n",
            "Station Wagon    1339\n",
            "SUV               803\n",
            "Trailer          1597\n",
            "Truck            1364\n",
            "Grand Total         0\n",
            "count               0\n",
            "dtype: int64\n"
          ]
        }
      ]
    },
    {
      "cell_type": "markdown",
      "source": [
        "Check for cars with more than 3 body types"
      ],
      "metadata": {
        "id": "Wg4XLSmBw6f7"
      }
    },
    {
      "cell_type": "code",
      "source": [
        "red_flag_cars = df[df['count'] > 3]"
      ],
      "metadata": {
        "id": "1mxTI_Uzu3gd"
      },
      "execution_count": 25,
      "outputs": []
    },
    {
      "cell_type": "markdown",
      "source": [
        "# Display red flag cars"
      ],
      "metadata": {
        "id": "XP-v2wzzw-UB"
      }
    },
    {
      "cell_type": "code",
      "source": [
        "print(\"Cars with more than 3 body types (red flags):\")\n",
        "print(red_flag_cars)"
      ],
      "metadata": {
        "colab": {
          "base_uri": "https://localhost:8080/"
        },
        "id": "hNrxYXEWvVhV",
        "outputId": "4f3863d5-062c-4453-b21b-9bc2b46879be"
      },
      "execution_count": 26,
      "outputs": [
        {
          "output_type": "stream",
          "name": "stdout",
          "text": [
            "Cars with more than 3 body types (red flags):\n",
            "               Bus  Convertible  Coupe  Crossover  hatchback  Minivan  Other  \\\n",
            "SKU_2                                                                          \n",
            "               1.0          NaN    1.0        1.0        NaN      1.0    NaN   \n",
            "ABARTH 500     NaN          NaN    NaN        NaN        1.0      1.0    NaN   \n",
            "ABARTH 500C    NaN          NaN    NaN        NaN        NaN      1.0    NaN   \n",
            "Acura MDX      NaN          NaN    NaN        1.0        1.0      NaN    1.0   \n",
            "Acura RDX      NaN          NaN    NaN        1.0        NaN      NaN    NaN   \n",
            "...            ...          ...    ...        ...        ...      ...    ...   \n",
            "Volvo V40      NaN          NaN    NaN        1.0        1.0      NaN    NaN   \n",
            "Volvo V50      NaN          NaN    NaN        NaN        1.0      NaN    NaN   \n",
            "Volvo V60      NaN          NaN    NaN        NaN        1.0      NaN    NaN   \n",
            "Volvo XC90     NaN          NaN    NaN        1.0        1.0      NaN    NaN   \n",
            "Grand Total  161.0         40.0  167.0      159.0      473.0    175.0   85.0   \n",
            "\n",
            "             Pickup  Sedan  Station Wagon    SUV  Trailer  Truck  Grand Total  \\\n",
            "SKU_2                                                                           \n",
            "                NaN    1.0            NaN    1.0      NaN    1.0            1   \n",
            "ABARTH 500      1.0    NaN            NaN    1.0      NaN    NaN            1   \n",
            "ABARTH 500C     1.0    NaN            NaN    1.0      NaN    NaN            1   \n",
            "Acura MDX       NaN    1.0            1.0    1.0      NaN    NaN            1   \n",
            "Acura RDX       NaN    1.0            NaN    1.0      NaN    NaN            1   \n",
            "...             ...    ...            ...    ...      ...    ...          ...   \n",
            "Volvo V40       NaN    1.0            1.0    NaN      NaN    NaN            1   \n",
            "Volvo V50       NaN    NaN            1.0    1.0      NaN    NaN            1   \n",
            "Volvo V60       NaN    NaN            1.0    1.0      NaN    NaN            1   \n",
            "Volvo XC90      NaN    1.0            NaN    1.0      NaN    NaN            1   \n",
            "Grand Total   189.0  715.0          280.0  816.0     22.0  256.0         1623   \n",
            "\n",
            "             count  \n",
            "SKU_2               \n",
            "                 8  \n",
            "ABARTH 500       5  \n",
            "ABARTH 500C      4  \n",
            "Acura MDX        7  \n",
            "Acura RDX        4  \n",
            "...            ...  \n",
            "Volvo V40        5  \n",
            "Volvo V50        4  \n",
            "Volvo V60        4  \n",
            "Volvo XC90       5  \n",
            "Grand Total   5161  \n",
            "\n",
            "[480 rows x 15 columns]\n"
          ]
        }
      ]
    },
    {
      "cell_type": "markdown",
      "source": [
        "# Visualize the distribution of counts"
      ],
      "metadata": {
        "id": "GavcIvI9xDvu"
      }
    },
    {
      "cell_type": "code",
      "source": [
        "sns.histplot(df['count'], bins=20, kde=True)\n",
        "plt.title('Distribution of Car Counts in Body Types')\n",
        "plt.xlabel('Number of Body Types')\n",
        "plt.ylabel('Frequency')\n",
        "plt.show()"
      ],
      "metadata": {
        "colab": {
          "base_uri": "https://localhost:8080/",
          "height": 472
        },
        "id": "gONsRTA1vdqz",
        "outputId": "4e82328c-ae50-4e1c-be0b-136dcd87ac04"
      },
      "execution_count": 27,
      "outputs": [
        {
          "output_type": "display_data",
          "data": {
            "text/plain": [
              "<Figure size 640x480 with 1 Axes>"
            ],
            "image/png": "[encoded data removed]"
          },
          "metadata": {}
        }
      ]
    },
    {
      "cell_type": "markdown",
      "source": [
        "# Data Exploration and Cleaning\n",
        "# Drop rows with missing values"
      ],
      "metadata": {
        "id": "kzUqKyFW1Tb_"
      }
    },
    {
      "cell_type": "code",
      "source": [
        "df = df.dropna(axis=0, how='all').dropna(axis=1, how='all')\n",
        "\n"
      ],
      "metadata": {
        "id": "OYKqA_Em1hQv"
      },
      "execution_count": 28,
      "outputs": []
    },
    {
      "cell_type": "markdown",
      "source": [
        "# Drop the \"Grand Total\" row and column"
      ],
      "metadata": {
        "id": "kors-6WP3aTm"
      }
    },
    {
      "cell_type": "code",
      "source": [
        "columns_to_drop = ['Grand Total', 'count']\n",
        "df = df.drop(columns=[col for col in columns_to_drop if col in df.columns])\n"
      ],
      "metadata": {
        "id": "pWq4MrmD3bp9"
      },
      "execution_count": 34,
      "outputs": []
    },
    {
      "cell_type": "code",
      "source": [
        "print(df.head())\n"
      ],
      "metadata": {
        "colab": {
          "base_uri": "https://localhost:8080/"
        },
        "id": "J7C__6R24ZPk",
        "outputId": "ab6e6af8-d3da-4491-df6e-c344954973fe"
      },
      "execution_count": 36,
      "outputs": [
        {
          "output_type": "stream",
          "name": "stdout",
          "text": [
            "                    Bus  Convertible  Coupe  Crossover  hatchback  Minivan  \\\n",
            "SKU_2                                                                        \n",
            "                    1.0          NaN    1.0        1.0        NaN      1.0   \n",
            "ABARTH 500          NaN          NaN    NaN        NaN        1.0      1.0   \n",
            "ABARTH 500C         NaN          NaN    NaN        NaN        NaN      1.0   \n",
            "ABARTH 595 Turismo  NaN          NaN    NaN        NaN        NaN      NaN   \n",
            "ABARTH 595C         NaN          NaN    NaN        NaN        NaN      NaN   \n",
            "\n",
            "                    Other  Pickup  Sedan  Station Wagon  SUV  Trailer  Truck  \n",
            "SKU_2                                                                         \n",
            "                      NaN     NaN    1.0            NaN  1.0      NaN    1.0  \n",
            "ABARTH 500            NaN     1.0    NaN            NaN  1.0      NaN    NaN  \n",
            "ABARTH 500C           NaN     1.0    NaN            NaN  1.0      NaN    NaN  \n",
            "ABARTH 595 Turismo    NaN     1.0    NaN            NaN  NaN      NaN    NaN  \n",
            "ABARTH 595C           NaN     NaN    NaN            NaN  1.0      NaN    NaN  \n"
          ]
        }
      ]
    },
    {
      "cell_type": "markdown",
      "source": [
        "# bar chart is created to visualize the number of body types per car.\n",
        "\n"
      ],
      "metadata": {
        "id": "YkbJXjQ61ZeX"
      }
    },
    {
      "cell_type": "code",
      "source": [
        "plt.figure(figsize=(12, 6))\n",
        "sns.barplot(x=df.columns, y=df.sum(axis=0))\n",
        "plt.title('Number of Body Types per Car')\n",
        "plt.xlabel('Car')\n",
        "plt.ylabel('Number of Body Types')\n",
        "plt.xticks(rotation=45, ha='right')\n",
        "plt.show()"
      ],
      "metadata": {
        "colab": {
          "base_uri": "https://localhost:8080/",
          "height": 632
        },
        "id": "pWKViwiR1apT",
        "outputId": "a8acfd20-5046-449f-f0ad-dc101be2667d"
      },
      "execution_count": 35,
      "outputs": [
        {
          "output_type": "display_data",
          "data": {
            "text/plain": [
              "<Figure size 1200x600 with 1 Axes>"
            ],
            "image/png": "[encoded data removed]"
          },
          "metadata": {}
        }
      ]
    }
  ]
}